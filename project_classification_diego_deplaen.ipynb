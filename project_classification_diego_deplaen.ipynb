{
 "cells": [
  {
   "cell_type": "markdown",
   "metadata": {},
   "source": [
    "# Project: Classification for imbalanced datasets"
   ]
  },
  {
   "cell_type": "markdown",
   "metadata": {},
   "source": [
    "### I. Introduction"
   ]
  },
  {
   "cell_type": "markdown",
   "metadata": {},
   "source": [
    "In this project, I would like to investigate the performance of two classification machine learning algorithms of the \"ensemble\" family on imbalanced data: the gradient tree boosting and random forest classification algorithms. \n",
    "\n",
    "\n",
    "Imbalanced datasets are characterized by one class containing much more observations than the other class, which is quite frequently seen in real life. \n",
    "\n",
    "\n",
    "For this experiment, I will use two datasets, one (real) relating to credit card defaults and another synthetic dataset. I will use different metrics to compute in-sample and out-of-sample performance, in order to compare both algorithms.\n"
   ]
  },
  {
   "cell_type": "markdown",
   "metadata": {},
   "source": [
    "### II. Machine Learning Algorithms"
   ]
  },
  {
   "cell_type": "markdown",
   "metadata": {},
   "source": [
    "#### 1. Gradient Boosting Tree Classifier\n",
    "Boosting methods are a widely-used in the machine learning world. The motivation behind it lies in a procedure that combines the outputs of many \"weak\" classifiers to produce a powerful \"committee\" decision. \n",
    "\n",
    "In particular, the gradient boosting tree (GBT) classifier uses decision trees as \"weak\" learners. Trees can be expressed as:\n",
    "\n",
    "\\begin{equation}\n",
    "    T(x;\\Theta) = \\Sigma_{j=1}^{J} \\gamma_j I(x \\in R_j)\n",
    "\\end{equation}\n",
    "\n",
    "with parameters $R_j$, the region j, $\\gamma_j$ the predicted value for region j and $J$ itself, the number of nodes/leafs on the tree. The boosted tree model is a sum of such trees:\n",
    "\n",
    "\\begin{equation}\n",
    "    f_M (x) = \\Sigma_{m=1}^{M} T(x;\\Theta_m)\n",
    "\\end{equation}\n",
    "\n",
    "In gradient boosting trees, the first tree is fitted on the sample, but then each new tree is then fitted such as to minimize the loss function. The minimization problem can be written as:\n",
    "\n",
    "\\begin{equation}\n",
    "    \\hat{\\Theta}_m = \\arg\\min{\\Theta_m}\\Sigma_{i=1}^{N} L \\left(y_i, f_{m-1}(x_i) + T(x_i;\\Theta_m) \\right)\n",
    "\\end{equation}\n",
    "\n",
    "One way to solve this minimization is the gradient descent algorithm. The tree is then fitted to the negative gradient by least squares:\n",
    "\n",
    "\\begin{equation}\n",
    "    \\tilde{\\Theta}_m = \\arg\\min_{\\Theta} \\Sigma_{i=1}^{N} \\left( -g_im - T(x_i;\\Theta) \\right)^2\n",
    "\\end{equation}\n",
    "\n",
    "where $g_im$ is the gradient of the loss function at iteration m and for all observation $i=1,2,...,N$:\n",
    "\n",
    "\\begin{equation}\n",
    "    g_{im} = \\left[ \\frac{\\partial L(y_i, f(x_i))}{\\partial f(x_i)} \\right]_{f(x_i)=f_{m-1}(x_i)}\n",
    "\\end{equation}\n",
    "\n",
    "Beside the size of each constituent tree $J$, we have also to choose the number of trees $M$ to be grown. Each new tree reduces the risk of misclassification but it also can lead to overfitting. \n",
    "Another parameter controlling the importance of a new tree is now introduced:\n",
    "\n",
    "\\begin{equation}\n",
    "    f_{m}(x) = f_{m-1}(x) + \\nu \\Sigma_{i=1}^{N} \\gamma_{jm} I(x \\in R_{jm})\n",
    "\\end{equation}\n",
    "\n",
    "$\\nu$ will scale the contribution of each new tree by a factor $0<\\nu<1$: smaller values of $\\nu$ will lead to a larger training risk and control for overfitting. This parameter needs also to be calibrated to the (training) data.\n",
    "\n",
    "\n",
    "\n",
    "##### Hyperparameters:\n",
    "We are going to implement the GBT algorithm with scikit-learn. There are a certain number of hyperparameter to be chosen in this algorithm. Here below is a list of the relevant hyperparameters in particular for taking into account imbalances:\n",
    "\n",
    "\\- **learning_rate**: the learning rate $\\nu$ shrinks the contribution of each tree. There is a trade-off between learning_rate and n_estimators.\n",
    "\n",
    "\\- **n_estimators**: the numbers of trees $M$ to be grown or iterations of the algorithm. \n",
    "\n",
    "\\- **max_depth**: the maximum depth $J$ of a tree.\n",
    "\n",
    "\\- **subsample**: the fraction of observations to be selected for each tree. Selection is done by random sampling.\n",
    "\n",
    "\\- **min_samples_leaf**: this defines the minimum samples (or observations) required in a terminal node or leaf. As our dataset experiences imbalance in its response variable, we will set this parameter to a low value should be chosen for imbalanced class problems because the regions in which the minority class will be in majority will be very small."
   ]
  },
  {
   "cell_type": "markdown",
   "metadata": {},
   "source": [
    "#### 2. Random Forest\n",
    "Random forest is another ensemble technique of the \"bagging\" kind. The weak learners in random forest are also decision trees. As we discussed, the trees have a high variance and small bias, but unlike boosting, the bagging idea is to reduce the variance of these estimators by averaging them:\n",
    "\n",
    "\\begin{equation}\n",
    "    \\hat{f}^{B}_{rf}(x) = \\frac{1}{B} \\Sigma_{b=1}^{B} T(x;\\Theta_b)\n",
    "\\end{equation}\n",
    "\n",
    "Where $B$ stands for the number of bootstrapped samples.\n",
    "\n",
    "As the trees are identically distributed, the variance of the average is given by: $\\rho \\sigma^2 + \\frac{1-\\rho}{B} \\sigma^2$ where $\\rho$ is the pairwise correlation between each tree and $\\sigma^2$ is the individual variance of a tree. We can see that this variance can be reduced if we have a large B and/or a small $\\rho$.\n",
    "The idea behind the random forest algorithm is to grow trees with reduced correlation. This is achieved in the tree-growing process through random selection of the input variables.\n",
    "\n",
    "Random forest is uniquely a variance reduction technique. Indeed, the forest inherits the bias of the tree. Bagging multiple trees will not improve the bias, but the variance will be reduced. Furthermore, random forest has the advantage of having less complex hyperparameters to tune and being easier to implement then gradient boosting trees.\n",
    "\n",
    "##### Hyperparameters:\n",
    "The random forest algorithm is going to be implemented with scikit-learn. The main hyperparameters of random forest in scikit-learn are:\n",
    "\n",
    "\\- **n_estimators**: the number of trees grown in the random forest.\n",
    "\n",
    "\\- **max_features**: the number of features to consider when looking for the best split. The smaller the value of max_features, the lower the correlation between any pair of trees will be. If this value is too small, we might also face overfitting.\n",
    "\n",
    "We will also include the following other parameters in the tuning procedure:\n",
    "\n",
    "\\- **min_samples_leaf**: the minimum number of samples required to be at a leaf node.\n",
    "\n",
    "\\- **min_samples_split**: the minimum number of samples required to split an internal node.\n",
    "\n",
    "\\- **max_depth**: the maximum depth of the tree.\n"
   ]
  },
  {
   "cell_type": "markdown",
   "metadata": {},
   "source": [
    "#### 3. Comparing our estimators\n",
    "In order to comare the quality of our estimators we are going to use a combination of accuracy indicators: \n",
    "\n",
    "\\- **Precision** is a metric that quantifies the number of correct positive predictions made. Precision, therefore, calculates the accuracy for the minority class. In our case, this is an interesting metric if we want to avoid missclassifying default as non-default customers.\n",
    "\n",
    "\\- **Accuracy** is a metric that quantifies the number of correct positive predictions made out of all predictions that could have been made. In our study, we will want our accuracy score to be at least higher than the proportion of the majority class within the whole dataset. \n",
    "\n",
    "\\- **F-score or f1-score** The F1 score can be interpreted as a weighted average of the precision and recall, where an F1 score reaches its best value at 1 and worst score at 0. The F-score is calculated as follows: F1 = 2 * (precision * recall) / (precision + recall)"
   ]
  },
  {
   "cell_type": "markdown",
   "metadata": {},
   "source": [
    "### III. Dataset creation and description\n",
    "#### 1. Real dataset: credit card default in Taiwan"
   ]
  },
  {
   "cell_type": "markdown",
   "metadata": {},
   "source": [
    "I have chosen a dataset on default for credit cards in Taïwan. The dataset is available on the UCI Machine Learning Repository. This is a good example of real life imbalance of the reponse variable in a dataset. Indeed banks will try to reduce their default rate on loan portfolio to 5% - 20% in order to make a profit. Therefore this can lead some algorithms to erros in their learning.\n",
    "For instance, if we have only 10% of positive response on a population, and if our algorithm simply classifies all observation as negative reponse, we would then achieve a 90% accuracy ratio and we would not able to tell that our algorithm is failing.\n",
    "\n"
   ]
  },
  {
   "cell_type": "code",
   "execution_count": 10,
   "metadata": {},
   "outputs": [],
   "source": [
    "import pandas as pd\n",
    "import matplotlib.pyplot as plt\n",
    "import seaborn as sns\n",
    "from sklearn.model_selection import train_test_split, GridSearchCV, RandomizedSearchCV\n",
    "\n",
    "# URL for the credit card default dataset (UCI Machine Learning Repository)\n",
    "link = \"https://archive.ics.uci.edu/ml/machine-learning-databases/00350/default%20of%20credit%20card%20clients.xls\"\n",
    "# download the file\n",
    "df = pd.read_excel(io=link, header=1, index_col=0)\n",
    "df = df.rename(columns={\"default payment next month\":\"default\"})\n",
    "# Separate the response and the design matrix\n",
    "Y = df[\"default\"]\n",
    "X = df.loc[:,:\"PAY_AMT6\"]"
   ]
  },
  {
   "cell_type": "code",
   "execution_count": 11,
   "metadata": {},
   "outputs": [
    {
     "data": {
      "text/html": [
       "<div>\n",
       "<style scoped>\n",
       "    .dataframe tbody tr th:only-of-type {\n",
       "        vertical-align: middle;\n",
       "    }\n",
       "\n",
       "    .dataframe tbody tr th {\n",
       "        vertical-align: top;\n",
       "    }\n",
       "\n",
       "    .dataframe thead th {\n",
       "        text-align: right;\n",
       "    }\n",
       "</style>\n",
       "<table border=\"1\" class=\"dataframe\">\n",
       "  <thead>\n",
       "    <tr style=\"text-align: right;\">\n",
       "      <th></th>\n",
       "      <th>LIMIT_BAL</th>\n",
       "      <th>SEX</th>\n",
       "      <th>EDUCATION</th>\n",
       "      <th>MARRIAGE</th>\n",
       "      <th>AGE</th>\n",
       "      <th>PAY_0</th>\n",
       "      <th>PAY_2</th>\n",
       "      <th>PAY_3</th>\n",
       "      <th>PAY_4</th>\n",
       "      <th>PAY_5</th>\n",
       "      <th>...</th>\n",
       "      <th>BILL_AMT3</th>\n",
       "      <th>BILL_AMT4</th>\n",
       "      <th>BILL_AMT5</th>\n",
       "      <th>BILL_AMT6</th>\n",
       "      <th>PAY_AMT1</th>\n",
       "      <th>PAY_AMT2</th>\n",
       "      <th>PAY_AMT3</th>\n",
       "      <th>PAY_AMT4</th>\n",
       "      <th>PAY_AMT5</th>\n",
       "      <th>PAY_AMT6</th>\n",
       "    </tr>\n",
       "    <tr>\n",
       "      <th>default</th>\n",
       "      <th></th>\n",
       "      <th></th>\n",
       "      <th></th>\n",
       "      <th></th>\n",
       "      <th></th>\n",
       "      <th></th>\n",
       "      <th></th>\n",
       "      <th></th>\n",
       "      <th></th>\n",
       "      <th></th>\n",
       "      <th></th>\n",
       "      <th></th>\n",
       "      <th></th>\n",
       "      <th></th>\n",
       "      <th></th>\n",
       "      <th></th>\n",
       "      <th></th>\n",
       "      <th></th>\n",
       "      <th></th>\n",
       "      <th></th>\n",
       "      <th></th>\n",
       "    </tr>\n",
       "  </thead>\n",
       "  <tbody>\n",
       "    <tr>\n",
       "      <th>0</th>\n",
       "      <td>178099.726074</td>\n",
       "      <td>1.614150</td>\n",
       "      <td>1.841337</td>\n",
       "      <td>1.558637</td>\n",
       "      <td>35.417266</td>\n",
       "      <td>-0.211222</td>\n",
       "      <td>-0.301917</td>\n",
       "      <td>-0.316256</td>\n",
       "      <td>-0.355633</td>\n",
       "      <td>-0.389488</td>\n",
       "      <td>...</td>\n",
       "      <td>47533.365605</td>\n",
       "      <td>43611.165254</td>\n",
       "      <td>40530.445343</td>\n",
       "      <td>39042.268704</td>\n",
       "      <td>6307.337357</td>\n",
       "      <td>6640.465074</td>\n",
       "      <td>5753.496833</td>\n",
       "      <td>5300.529319</td>\n",
       "      <td>5248.220296</td>\n",
       "      <td>5719.371769</td>\n",
       "    </tr>\n",
       "    <tr>\n",
       "      <th>1</th>\n",
       "      <td>130109.656420</td>\n",
       "      <td>1.567058</td>\n",
       "      <td>1.894665</td>\n",
       "      <td>1.528029</td>\n",
       "      <td>35.725738</td>\n",
       "      <td>0.668174</td>\n",
       "      <td>0.458258</td>\n",
       "      <td>0.362116</td>\n",
       "      <td>0.254521</td>\n",
       "      <td>0.167872</td>\n",
       "      <td>...</td>\n",
       "      <td>45181.598855</td>\n",
       "      <td>42036.950573</td>\n",
       "      <td>39540.190476</td>\n",
       "      <td>38271.435503</td>\n",
       "      <td>3397.044153</td>\n",
       "      <td>3388.649638</td>\n",
       "      <td>3367.351567</td>\n",
       "      <td>3155.626733</td>\n",
       "      <td>3219.139542</td>\n",
       "      <td>3441.482068</td>\n",
       "    </tr>\n",
       "  </tbody>\n",
       "</table>\n",
       "<p>2 rows × 23 columns</p>\n",
       "</div>"
      ],
      "text/plain": [
       "             LIMIT_BAL       SEX  EDUCATION  MARRIAGE        AGE     PAY_0  \\\n",
       "default                                                                      \n",
       "0        178099.726074  1.614150   1.841337  1.558637  35.417266 -0.211222   \n",
       "1        130109.656420  1.567058   1.894665  1.528029  35.725738  0.668174   \n",
       "\n",
       "            PAY_2     PAY_3     PAY_4     PAY_5  ...     BILL_AMT3  \\\n",
       "default                                          ...                 \n",
       "0       -0.301917 -0.316256 -0.355633 -0.389488  ...  47533.365605   \n",
       "1        0.458258  0.362116  0.254521  0.167872  ...  45181.598855   \n",
       "\n",
       "            BILL_AMT4     BILL_AMT5     BILL_AMT6     PAY_AMT1     PAY_AMT2  \\\n",
       "default                                                                       \n",
       "0        43611.165254  40530.445343  39042.268704  6307.337357  6640.465074   \n",
       "1        42036.950573  39540.190476  38271.435503  3397.044153  3388.649638   \n",
       "\n",
       "            PAY_AMT3     PAY_AMT4     PAY_AMT5     PAY_AMT6  \n",
       "default                                                      \n",
       "0        5753.496833  5300.529319  5248.220296  5719.371769  \n",
       "1        3367.351567  3155.626733  3219.139542  3441.482068  \n",
       "\n",
       "[2 rows x 23 columns]"
      ]
     },
     "execution_count": 11,
     "metadata": {},
     "output_type": "execute_result"
    }
   ],
   "source": [
    "df.groupby(['default']).mean()"
   ]
  },
  {
   "cell_type": "markdown",
   "metadata": {},
   "source": [
    "We can see the imbalance in the response variable \"default\" in the figure below:"
   ]
  },
  {
   "cell_type": "code",
   "execution_count": 12,
   "metadata": {},
   "outputs": [
    {
     "data": {
      "image/png": "[encoded data removed]",
      "text/plain": [
       "<Figure size 432x576 with 1 Axes>"
      ]
     },
     "metadata": {
      "needs_background": "light"
     },
     "output_type": "display_data"
    }
   ],
   "source": [
    "plt.figure(figsize = (6,8))\n",
    "plt.title('Credit Card Default - (default = 0, No default = 1)')\n",
    "sns.countplot(x=\"default\", data=df)\n",
    "locs, labels = plt.xticks()\n",
    "plt.show()"
   ]
  },
  {
   "cell_type": "markdown",
   "metadata": {},
   "source": [
    "Out of the 30,000 observations, we have 22.12% of them belonging to the \"in-default\" class (=1). \n",
    "\n",
    "Let us now see the proportion of default for a few feature variables. First we can see the default rate against the age of customers. Young (21-25) and elderly customers (70+) seem to have a higher proportion of defaults than the rest of the population."
   ]
  },
  {
   "cell_type": "code",
   "execution_count": 13,
   "metadata": {},
   "outputs": [
    {
     "data": {
      "image/png": "[encoded data removed]",
      "text/plain": [
       "<Figure size 1296x576 with 1 Axes>"
      ]
     },
     "metadata": {
      "needs_background": "light"
     },
     "output_type": "display_data"
    }
   ],
   "source": [
    "plt.figure(figsize = (18,8))\n",
    "plt.title('Age of clients')\n",
    "sns.barplot(x=\"AGE\", y=\"default\", data=df);\n",
    "plt.show()"
   ]
  },
  {
   "cell_type": "markdown",
   "metadata": {},
   "source": [
    "Education is also an important feature explaining default as seen in the figure below. There are however also some observations not labeled."
   ]
  },
  {
   "cell_type": "code",
   "execution_count": 14,
   "metadata": {},
   "outputs": [
    {
     "data": {
      "image/png": "[encoded data removed]",
      "text/plain": [
       "<Figure size 1296x576 with 1 Axes>"
      ]
     },
     "metadata": {
      "needs_background": "light"
     },
     "output_type": "display_data"
    }
   ],
   "source": [
    "plt.figure(figsize = (18,8))\n",
    "plt.title('Education of clients - (1 = graduate school; 2 = university; 3 = high school; 4 = others; 5-6: unlabeled)')\n",
    "sns.barplot(x=\"EDUCATION\", y=\"default\", data=df);\n",
    "plt.show()"
   ]
  },
  {
   "cell_type": "code",
   "execution_count": 15,
   "metadata": {},
   "outputs": [
    {
     "data": {
      "image/png": "[encoded data removed]",
      "text/plain": [
       "<Figure size 1296x576 with 1 Axes>"
      ]
     },
     "metadata": {
      "needs_background": "light"
     },
     "output_type": "display_data"
    }
   ],
   "source": [
    "plt.figure(figsize = (18,8))\n",
    "plt.title('Marriage - (1 = married; 2 = single; 3 = others; 0 = unlabeled)')\n",
    "sns.barplot(x=\"MARRIAGE\", y=\"default\", data=df);\n",
    "plt.show()"
   ]
  },
  {
   "cell_type": "markdown",
   "metadata": {},
   "source": [
    "The limit of withdrawal of the credit card contract could be an important predictive feature:"
   ]
  },
  {
   "cell_type": "code",
   "execution_count": 16,
   "metadata": {},
   "outputs": [
    {
     "data": {
      "image/png": "[encoded data removed]",
      "text/plain": [
       "<Figure size 1296x576 with 1 Axes>"
      ]
     },
     "metadata": {
      "needs_background": "light"
     },
     "output_type": "display_data"
    }
   ],
   "source": [
    "plt.figure(figsize = (18,8))\n",
    "plt.title('Limit of withdrawal')\n",
    "ax = sns.countplot(x=\"LIMIT_BAL\", data=df)\n",
    "sns.barplot(x=\"LIMIT_BAL\", y=\"default\", palette=\"pastel\", data=df)\n",
    "ax.set_xticklabels(ax.get_xticklabels(), rotation=40, ha=\"right\")\n",
    "plt.tight_layout()\n",
    "plt.show()"
   ]
  },
  {
   "cell_type": "markdown",
   "metadata": {},
   "source": [
    "We can see that female customers have also lower default rate than male customers:"
   ]
  },
  {
   "cell_type": "code",
   "execution_count": 17,
   "metadata": {},
   "outputs": [
    {
     "data": {
      "image/png": "[encoded data removed]",
      "text/plain": [
       "<Figure size 432x576 with 1 Axes>"
      ]
     },
     "metadata": {
      "needs_background": "light"
     },
     "output_type": "display_data"
    }
   ],
   "source": [
    "plt.figure(figsize = (6,8))\n",
    "plt.title('Sex of the client')\n",
    "sns.barplot(x=\"SEX\", y=\"default\", data=df);\n",
    "plt.show()"
   ]
  },
  {
   "cell_type": "markdown",
   "metadata": {
    "collapsed": true
   },
   "source": [
    "The random forest and gradient boosting tree classifier are implemented in scikit-learn. We are going to run first these models without hyperparameter tuning nor taking into account imbalanceness of our data:"
   ]
  },
  {
   "cell_type": "code",
   "execution_count": 18,
   "metadata": {},
   "outputs": [],
   "source": [
    "# Split into train and test sets\n",
    "X_train, X_test, y_train, y_test = train_test_split(X, Y, test_size=0.2, random_state=2)"
   ]
  },
  {
   "cell_type": "markdown",
   "metadata": {},
   "source": [
    "We are going to split our dataset between training and test datasets. The training set will be used to fit our model. The test set will be used only at the end of the procedure, and it will evalute the acurateness of our fitted model."
   ]
  },
  {
   "cell_type": "markdown",
   "metadata": {},
   "source": [
    "#### 2. Synthetic dataset"
   ]
  },
  {
   "cell_type": "markdown",
   "metadata": {},
   "source": [
    "For the synthetic dataset, I am using a variation of the dataset created in Hastie (example 10.2):\n",
    "\n",
    "\\begin{equation}\n",
    "  Y =\n",
    "    \\begin{cases}\n",
    "      1 \\text{ if } \\Sigma_{j=1}^{10} X_{j}^{2}> \\chi_{10}^{2}(0.2) \\\\\n",
    "      -1 \\text{ otherwise } \\\\\n",
    "    \\end{cases}       \n",
    "\\end{equation}\n",
    "\n",
    "Where $\\chi_{10}^{2}(0.2)$ is the 20th percentile of the chi-square distribution with df = 10. This will result in only 20% observation of positive (=1) responses in our dataset. "
   ]
  },
  {
   "cell_type": "code",
   "execution_count": 19,
   "metadata": {},
   "outputs": [],
   "source": [
    "# synthetic dataset for classification:\n",
    "def make_synthetic_dataset(n=10, random_state=20):\n",
    "    \"\"\"\n",
    "    This function creates a synthetic dataset similar to the example in Hastie (10.2).\n",
    "    It is slightly modified to have imbalance in the reponse variable.\n",
    "    :param n: number of samples\n",
    "    :param random_state: fix random generator seed\n",
    "    :return:\n",
    "    \"\"\"\n",
    "    X = []\n",
    "    Y = np.zeros(n)\n",
    "    for i in range(n):\n",
    "        X.append(np.random.standard_normal(10))\n",
    "        Y[i] = 1 if sum(np.power(X[i], 2)) > chi2.ppf(q=0.2, df=10) else -1\n",
    "    return [X, Y]"
   ]
  },
  {
   "cell_type": "markdown",
   "metadata": {},
   "source": [
    "###  IV. Training the models"
   ]
  },
  {
   "cell_type": "markdown",
   "metadata": {},
   "source": [
    "#### 1. Credit card default dataset"
   ]
  },
  {
   "cell_type": "code",
   "execution_count": 20,
   "metadata": {},
   "outputs": [],
   "source": [
    "# Load machine learning libraries\n",
    "import numpy as np\n",
    "from pprint import pprint\n",
    "from scipy.stats import chi2\n",
    "from sklearn.ensemble import GradientBoostingClassifier, RandomForestClassifier\n",
    "from sklearn.model_selection import train_test_split, GridSearchCV, RandomizedSearchCV\n",
    "from sklearn.metrics import accuracy_score, balanced_accuracy_score, precision_score, recall_score, make_scorer, f1_score"
   ]
  },
  {
   "cell_type": "markdown",
   "metadata": {},
   "source": [
    "The random forest and gradient boosting tree classifier are implemented in scikit-learn. We are going to run first these models without hyperparameter tuning nor taking into account imbalanceness of our data:"
   ]
  },
  {
   "cell_type": "code",
   "execution_count": 21,
   "metadata": {},
   "outputs": [],
   "source": [
    "### Baseline model:\n",
    "# Gradient Boosting Classifier\n",
    "gtb0 = GradientBoostingClassifier()\n",
    "gtb0.fit(X_train, y_train)\n",
    "inS_gtb0_pred = gtb0.predict(X_train)\n",
    "outS_gtb0_pred = gtb0.predict(X_test)\n",
    "# Random Forest Classifier\n",
    "rf0 = RandomForestClassifier(class_weight='balanced')\n",
    "rf0.fit(X_train, y_train)\n",
    "inS_rf0_pred = rf0.predict(X_train)\n",
    "outS_rf0_pred = rf0.predict(X_test)"
   ]
  },
  {
   "cell_type": "code",
   "execution_count": 22,
   "metadata": {},
   "outputs": [],
   "source": [
    "# Compare both estimators (in terms of precision, accuracy, )\n",
    "dcc_base_prec_df = pd.DataFrame({\n",
    "    \"GBT\": {\"InSample\": np.round(precision_score(y_train, inS_gtb0_pred), 2),\n",
    "              \"OutSample\": np.round(precision_score(y_test, outS_gtb0_pred), 2),},\n",
    "    \"RF\":{\"InSample\": np.round(precision_score(y_train,inS_rf0_pred),2),\n",
    "             \"OutSample\": np.round(precision_score(y_test,outS_rf0_pred),2)},\n",
    "})\n",
    "\n",
    "dcc_base_acc_df = pd.DataFrame({\n",
    "    \"GBT\": {\"InSample\": np.round(accuracy_score(y_train, inS_gtb0_pred), 2),\n",
    "              \"OutSample\": np.round(accuracy_score(y_test, outS_gtb0_pred), 2),},\n",
    "    \"RF\":{\"InSample\": np.round(accuracy_score(y_train,inS_rf0_pred),2),\n",
    "             \"OutSample\": np.round(accuracy_score(y_test,outS_rf0_pred),2)},\n",
    "})\n",
    "\n",
    "dcc_base_f1s_df = pd.DataFrame({\n",
    "    \"GBT\": {\"InSample\": np.round(f1_score(y_train, inS_gtb0_pred), 2),\n",
    "              \"OutSample\": np.round(f1_score(y_test, outS_gtb0_pred), 2),},\n",
    "    \"RF\":{\"InSample\": np.round(f1_score(y_train,inS_rf0_pred),2),\n",
    "             \"OutSample\": np.round(f1_score(y_test,outS_rf0_pred),2)},\n",
    "})"
   ]
  },
  {
   "cell_type": "code",
   "execution_count": 23,
   "metadata": {},
   "outputs": [
    {
     "name": "stdout",
     "output_type": "stream",
     "text": [
      "Precision\n",
      "------------------------\n",
      "            GBT    RF\n",
      "InSample   0.70  1.00\n",
      "OutSample  0.68  0.66\n",
      "\n",
      "Accuracy\n",
      "------------------------\n",
      "            GBT    RF\n",
      "InSample   0.83  1.00\n",
      "OutSample  0.82  0.82\n",
      "\n",
      "F1-score\n",
      "------------------------\n",
      "            GBT    RF\n",
      "InSample   0.48  1.00\n",
      "OutSample  0.49  0.47\n",
      "------------------------\n"
     ]
    }
   ],
   "source": [
    "print(\"Precision\")\n",
    "print(\"------------------------\")\n",
    "print(dcc_base_prec_df)\n",
    "print(\"\")\n",
    "print(\"Accuracy\")\n",
    "print(\"------------------------\")\n",
    "print(dcc_base_acc_df)\n",
    "print(\"\")\n",
    "print(\"F1-score\")\n",
    "print(\"------------------------\")\n",
    "print(dcc_base_f1s_df)\n",
    "print(\"------------------------\")"
   ]
  },
  {
   "cell_type": "markdown",
   "metadata": {},
   "source": [
    "Overall it seems that GBT is doing better than RF. Wince we have about 20% imbalance in our dataset, an accuracy of 80% is not sufficient. The random forest algorithm seems to be subject to some overfitting as precision and accuracy both drops from 1 to 0.67 and 0.82 respectively. On the other hand, the difference between in-sample and out-of-sample precision/accuracy for GBT is very small."
   ]
  },
  {
   "cell_type": "markdown",
   "metadata": {},
   "source": [
    "Here are the default parameters used for both algorithms:"
   ]
  },
  {
   "cell_type": "code",
   "execution_count": 24,
   "metadata": {},
   "outputs": [
    {
     "name": "stdout",
     "output_type": "stream",
     "text": [
      "{'ccp_alpha': 0.0,\n",
      " 'criterion': 'friedman_mse',\n",
      " 'init': None,\n",
      " 'learning_rate': 0.1,\n",
      " 'loss': 'deviance',\n",
      " 'max_depth': 3,\n",
      " 'max_features': None,\n",
      " 'max_leaf_nodes': None,\n",
      " 'min_impurity_decrease': 0.0,\n",
      " 'min_impurity_split': None,\n",
      " 'min_samples_leaf': 1,\n",
      " 'min_samples_split': 2,\n",
      " 'min_weight_fraction_leaf': 0.0,\n",
      " 'n_estimators': 100,\n",
      " 'n_iter_no_change': None,\n",
      " 'presort': 'deprecated',\n",
      " 'random_state': None,\n",
      " 'subsample': 1.0,\n",
      " 'tol': 0.0001,\n",
      " 'validation_fraction': 0.1,\n",
      " 'verbose': 0,\n",
      " 'warm_start': False}\n"
     ]
    }
   ],
   "source": [
    "pprint(gtb0.get_params())"
   ]
  },
  {
   "cell_type": "code",
   "execution_count": 25,
   "metadata": {},
   "outputs": [
    {
     "name": "stdout",
     "output_type": "stream",
     "text": [
      "{'ccp_alpha': 0.0,\n",
      " 'criterion': 'friedman_mse',\n",
      " 'init': None,\n",
      " 'learning_rate': 0.1,\n",
      " 'loss': 'deviance',\n",
      " 'max_depth': 3,\n",
      " 'max_features': None,\n",
      " 'max_leaf_nodes': None,\n",
      " 'min_impurity_decrease': 0.0,\n",
      " 'min_impurity_split': None,\n",
      " 'min_samples_leaf': 1,\n",
      " 'min_samples_split': 2,\n",
      " 'min_weight_fraction_leaf': 0.0,\n",
      " 'n_estimators': 100,\n",
      " 'n_iter_no_change': None,\n",
      " 'presort': 'deprecated',\n",
      " 'random_state': None,\n",
      " 'subsample': 1.0,\n",
      " 'tol': 0.0001,\n",
      " 'validation_fraction': 0.1,\n",
      " 'verbose': 0,\n",
      " 'warm_start': False}\n"
     ]
    }
   ],
   "source": [
    "pprint(gtb0.get_params())"
   ]
  },
  {
   "cell_type": "markdown",
   "metadata": {},
   "source": [
    "#### Hyperparameter tuning:\n",
    "Let us now try to improve these results by tuning the hyperparameters. There are actually number of hyperparameter to be tuned for the gradient tree boosting and random forest as we can see here above. On one hand we have the underlying tree parameters and on the other boosting/bagging parameters.\n",
    "In order to do this, we are going to provide to our classifiers a grid for each hyperparameters and use the $RandomizedSearchCV$ function from scikit-learn, which uses cross-validation on our traning set to tune the hyperparameters.\n",
    "\n",
    "Unfortunately the RandomizedSearchCV can take some time to evaluate all the combinations of parameters. Due to this long processing time, I am including in the code below the optimal parameter values that I obtained after several trials:"
   ]
  },
  {
   "cell_type": "code",
   "execution_count": 26,
   "metadata": {},
   "outputs": [
    {
     "name": "stderr",
     "output_type": "stream",
     "text": [
      "E:\\Program Files (x86)\\Anaconda\\envs\\py37_full\\lib\\site-packages\\sklearn\\model_selection\\_search.py:281: UserWarning: The total space of parameters 1 is smaller than n_iter=100. Running 1 iterations. For exhaustive searches, use GridSearchCV.\n",
      "  % (grid_size, self.n_iter, grid_size), UserWarning)\n"
     ]
    }
   ],
   "source": [
    "# Fine-Tuning of the Gradient Boosting Classifier hyperparameters:\n",
    "gtb_params = {\n",
    "    \"learning_rate\": [0.01, 0.05, 0.1],\n",
    "    \"n_estimators\": [50, 100, 200, 500, 1000],\n",
    "    'max_depth': [5, 10, 15],\n",
    "    'max_features': [\"log2\",\"sqrt\"],\n",
    "    'min_samples_split': [500, 1000, 1500],\n",
    "    'min_samples_leaf': [50, 100, 150],\n",
    "    \"subsample\":[0.6, 0.7, 0.8, 0.9, 1],\n",
    "    }\n",
    "gtb_params= {\n",
    "    'subsample': [1],\n",
    "    'n_estimators': [100],\n",
    "    'min_samples_split': [500],\n",
    "    'min_samples_leaf': [50],\n",
    "    'max_features': [\"sqrt\"],\n",
    "    'max_depth': [10],\n",
    "    'learning_rate': [0.05]\n",
    "}\n",
    "grid_gtb = RandomizedSearchCV(GradientBoostingClassifier(), gtb_params, n_iter=100, cv=5, random_state=42, n_jobs=-1).fit(X_train, y_train)"
   ]
  },
  {
   "cell_type": "code",
   "execution_count": 27,
   "metadata": {},
   "outputs": [
    {
     "name": "stderr",
     "output_type": "stream",
     "text": [
      "E:\\Program Files (x86)\\Anaconda\\envs\\py37_full\\lib\\site-packages\\sklearn\\model_selection\\_search.py:281: UserWarning: The total space of parameters 1 is smaller than n_iter=100. Running 1 iterations. For exhaustive searches, use GridSearchCV.\n",
      "  % (grid_size, self.n_iter, grid_size), UserWarning)\n"
     ]
    }
   ],
   "source": [
    "# Fine-Tuning of the Random Forest Classifier hyperparameters:\n",
    "rf_params = {\n",
    "    'max_depth': [80, 90, 100, 110],\n",
    "    'max_features': [2, 3, 5],\n",
    "    'min_samples_leaf': [3, 4, 5],\n",
    "    'min_samples_split': [8, 10, 12],\n",
    "    'n_estimators': [100, 200, 300, 1000]\n",
    "}\n",
    "rf_params = {\n",
    "    'n_estimators': [300],\n",
    "    'min_samples_split': [12],\n",
    "    'min_samples_leaf': [5],\n",
    "    'max_features': [3],\n",
    "    'max_depth': [80]\n",
    "}\n",
    "\n",
    "grid_rf= RandomizedSearchCV(RandomForestClassifier(), rf_params, n_iter=100, cv=5, random_state=42, n_jobs=-1).fit(X_train, y_train)"
   ]
  },
  {
   "cell_type": "markdown",
   "metadata": {},
   "source": [
    "We can re-run our models with optimized hyperparameters and compute their accuracy and precision:"
   ]
  },
  {
   "cell_type": "code",
   "execution_count": 28,
   "metadata": {},
   "outputs": [],
   "source": [
    "# optimized Gradient Boosting Classifier\n",
    "gtb_opt = GradientBoostingClassifier(**grid_gtb.best_params_).fit(X_train, y_train)\n",
    "inS_gtb_opt_pred = gtb_opt.predict(X_train)\n",
    "outS_gtb_opt_pred = gtb_opt.predict(X_test)\n",
    "\n",
    "# optimized Random Forest Classifier\n",
    "rf_opt = RandomForestClassifier(**grid_rf.best_params_, class_weight='balanced').fit(X_train, y_train)\n",
    "inS_rf_opt_pred = rf_opt.predict(X_train)\n",
    "outS_rf_opt_pred = rf_opt.predict(X_test)"
   ]
  },
  {
   "cell_type": "code",
   "execution_count": 29,
   "metadata": {},
   "outputs": [],
   "source": [
    "# Let us now compare both estimators in terms of precision, accuracy and f1-score:\n",
    "dcc_opt_prec_df = pd.DataFrame({\n",
    "    \"GBT\": {\"InSample\": np.round(precision_score(y_train, inS_gtb_opt_pred), 2),\n",
    "              \"OutSample\": np.round(precision_score(y_test, outS_gtb_opt_pred), 2),},\n",
    "    \"RF\":{\"InSample\": np.round(precision_score(y_train,inS_rf_opt_pred),2),\n",
    "             \"OutSample\": np.round(precision_score(y_test,outS_rf_opt_pred),2)},\n",
    "})\n",
    "\n",
    "dcc_opt_acc_df = pd.DataFrame({\n",
    "    \"GBT\": {\"InSample\": np.round(accuracy_score(y_train, inS_gtb_opt_pred), 2),\n",
    "              \"OutSample\": np.round(accuracy_score(y_test, outS_gtb_opt_pred), 2),},\n",
    "    \"RF\":{\"InSample\": np.round(accuracy_score(y_train,inS_rf_opt_pred),2),\n",
    "             \"OutSample\": np.round(accuracy_score(y_test,outS_rf_opt_pred),2)},\n",
    "})\n",
    "\n",
    "dcc_opt_f1s_df = pd.DataFrame({\n",
    "    \"GBT\": {\"InSample\": np.round(f1_score(y_train, inS_gtb_opt_pred), 2),\n",
    "              \"OutSample\": np.round(f1_score(y_test, outS_gtb_opt_pred), 2),},\n",
    "    \"RF\":{\"InSample\": np.round(f1_score(y_train,inS_rf_opt_pred),2),\n",
    "             \"OutSample\": np.round(f1_score(y_test,outS_rf_opt_pred),2)},\n",
    "})"
   ]
  },
  {
   "cell_type": "code",
   "execution_count": 30,
   "metadata": {},
   "outputs": [
    {
     "name": "stdout",
     "output_type": "stream",
     "text": [
      "Precision\n",
      "------------------------\n",
      "            GBT    RF\n",
      "InSample   0.72  0.74\n",
      "OutSample  0.68  0.56\n",
      "\n",
      "Accuracy\n",
      "------------------------\n",
      "            GBT    RF\n",
      "InSample   0.83  0.90\n",
      "OutSample  0.82  0.81\n",
      "\n",
      "F1-score\n",
      "------------------------\n",
      "            GBT    RF\n",
      "InSample   0.51  0.80\n",
      "OutSample  0.50  0.56\n",
      "------------------------\n"
     ]
    }
   ],
   "source": [
    "print(\"Precision\")\n",
    "print(\"------------------------\")\n",
    "print(dcc_opt_prec_df)\n",
    "print(\"\")\n",
    "print(\"Accuracy\")\n",
    "print(\"------------------------\")\n",
    "print(dcc_opt_acc_df)\n",
    "print(\"\")\n",
    "print(\"F1-score\")\n",
    "print(\"------------------------\")\n",
    "print(dcc_opt_f1s_df)\n",
    "print(\"------------------------\")"
   ]
  },
  {
   "cell_type": "markdown",
   "metadata": {},
   "source": [
    "We can see that the hyperparameter tuning hasn't been a success overall. In terms of precision, the GBT has slightly improved in out-of-sample data, but the RF has worsened from 0.66 to 0.55. The same applies in accuracy. For F1-score, we notice that RF has improved from 0.46 to 0.55.\n",
    "Overall I think that the tuning procedure might be improven with better initial guesses and a less wide range of parameter choice. Nevertheless the GBT seems to win the match both in-sample and out-of-sample precision against RF."
   ]
  },
  {
   "cell_type": "markdown",
   "metadata": {},
   "source": [
    "#### 2. Synthetic dataset\n",
    "Now we turn to the synthetic dataset. We will generate a design matrix (X) of size 10000x10."
   ]
  },
  {
   "cell_type": "code",
   "execution_count": 31,
   "metadata": {},
   "outputs": [],
   "source": [
    "# Create the synthetic dataset\n",
    "synth_data = make_synthetic_dataset(10000)\n",
    "# Split data into response and design matrix\n",
    "X = synth_data[0]\n",
    "Y = synth_data[1]"
   ]
  },
  {
   "cell_type": "code",
   "execution_count": 32,
   "metadata": {},
   "outputs": [],
   "source": [
    "# Split into training and test sets\n",
    "X_synth_train, X_synth_test, y_synth_train, y_synth_test = train_test_split(X, Y, test_size=0.2, random_state=2)"
   ]
  },
  {
   "cell_type": "code",
   "execution_count": 33,
   "metadata": {},
   "outputs": [],
   "source": [
    "# Apply baseline models (no hyperparameter tuning):\n",
    "# Gradient Boosting Classifier:\n",
    "gtb0_synth = GradientBoostingClassifier()\n",
    "gtb0_synth.fit(X_synth_train, y_synth_train)\n",
    "inS_gtb0_synth_pred = gtb0_synth.predict(X_synth_train)\n",
    "outS_gtb0_synth_pred = gtb0_synth.predict(X_synth_test)\n",
    "\n",
    "# Random Forest Classifier:\n",
    "rf0_synth = RandomForestClassifier(class_weight='balanced')\n",
    "rf0_synth.fit(X_synth_train, y_synth_train)\n",
    "inS_rf0_synth_pred = rf0_synth.predict(X_synth_train)\n",
    "outS_rf0_synth_pred = rf0_synth.predict(X_synth_test)"
   ]
  },
  {
   "cell_type": "code",
   "execution_count": 34,
   "metadata": {},
   "outputs": [],
   "source": [
    "# Now we compare each estimators in terms of precision, acuracy and f1-score:\n",
    "synth_prec_df = pd.DataFrame({\n",
    "    \"GBT\": {\"InSample\": np.round(precision_score(y_synth_train, inS_gtb0_synth_pred), 2),\n",
    "              \"OutSample\": np.round(precision_score(y_synth_test, outS_gtb0_synth_pred), 2),},\n",
    "    \"RF\":{\"InSample\": np.round(precision_score(y_synth_train,inS_rf0_synth_pred),2),\n",
    "             \"OutSample\": np.round(precision_score(y_synth_test,outS_rf0_synth_pred),2)},\n",
    "})\n",
    "\n",
    "synth_acc_df = pd.DataFrame({\n",
    "        \"GBT\": {\"InSample\": np.round(accuracy_score(y_synth_train, inS_gtb0_synth_pred), 2),\n",
    "              \"OutSample\": np.round(accuracy_score(y_synth_test, outS_gtb0_synth_pred), 2),},\n",
    "    \"RF\":{\"InSample\": np.round(accuracy_score(y_synth_train,inS_rf0_synth_pred),2),\n",
    "             \"OutSample\": np.round(accuracy_score(y_synth_test,outS_rf0_synth_pred),2)},\n",
    "})\n",
    "\n",
    "synth_f1s_df = pd.DataFrame({\n",
    "    \"GBT\": {\"InSample\": np.round(f1_score(y_synth_train, inS_gtb0_synth_pred), 2),\n",
    "              \"OutSample\": np.round(f1_score(y_synth_test, outS_gtb0_synth_pred), 2),},\n",
    "    \"RF\":{\"InSample\": np.round(f1_score(y_synth_train,inS_rf0_synth_pred),2),\n",
    "             \"OutSample\": np.round(f1_score(y_synth_test,outS_rf0_synth_pred),2)},\n",
    "})\n"
   ]
  },
  {
   "cell_type": "code",
   "execution_count": 35,
   "metadata": {},
   "outputs": [
    {
     "name": "stdout",
     "output_type": "stream",
     "text": [
      "Precision\n",
      "------------------------\n",
      "            GBT    RF\n",
      "InSample   0.91  1.00\n",
      "OutSample  0.90  0.93\n",
      "\n",
      "Accuracy\n",
      "------------------------\n",
      "            GBT    RF\n",
      "InSample   0.92  1.00\n",
      "OutSample  0.91  0.93\n",
      "\n",
      "F1-score\n",
      "------------------------\n",
      "            GBT    RF\n",
      "InSample   0.95  1.00\n",
      "OutSample  0.95  0.96\n",
      "------------------------\n"
     ]
    }
   ],
   "source": [
    "print(\"Precision\")\n",
    "print(\"------------------------\")\n",
    "print(synth_prec_df)\n",
    "print(\"\")\n",
    "print(\"Accuracy\")\n",
    "print(\"------------------------\")\n",
    "print(synth_acc_df)\n",
    "print(\"\")\n",
    "print(\"F1-score\")\n",
    "print(\"------------------------\")\n",
    "print(synth_f1s_df)\n",
    "print(\"------------------------\")"
   ]
  },
  {
   "cell_type": "markdown",
   "metadata": {},
   "source": [
    "We achieve a very good result in terms of precision, accuracy and  f1-score, with the default hyperparameter values. \n",
    "Let us now try to improve this with tuned hyperparameters."
   ]
  },
  {
   "cell_type": "markdown",
   "metadata": {},
   "source": [
    "#### Hyperparameter tuning:"
   ]
  },
  {
   "cell_type": "code",
   "execution_count": 36,
   "metadata": {},
   "outputs": [
    {
     "name": "stderr",
     "output_type": "stream",
     "text": [
      "E:\\Program Files (x86)\\Anaconda\\envs\\py37_full\\lib\\site-packages\\sklearn\\model_selection\\_search.py:281: UserWarning: The total space of parameters 1 is smaller than n_iter=100. Running 1 iterations. For exhaustive searches, use GridSearchCV.\n",
      "  % (grid_size, self.n_iter, grid_size), UserWarning)\n"
     ]
    }
   ],
   "source": [
    "# Fine-Tuning of the Gradient Boosting Classifier hyperparameters:\n",
    "synth_gtb_params = {\n",
    "    \"learning_rate\": [0.01, 0.05, 0.1],\n",
    "    \"n_estimators\": [50, 100, 200, 500, 1000],\n",
    "    'max_depth': [5, 10, 15],\n",
    "    'max_features': [\"log2\",\"sqrt\"],\n",
    "    'min_samples_split': [500, 1000, 1500],\n",
    "    'min_samples_leaf': [50, 100, 150],\n",
    "    \"subsample\":[0.6, 0.7, 0.8, 0.9, 1],\n",
    "    }\n",
    "synth_gtb_params = {\n",
    "    'subsample': [0.9],\n",
    "     'n_estimators': [1000],\n",
    "     'min_samples_split': [1000],\n",
    "     'min_samples_leaf': [50],\n",
    "     'max_features': ['log2'],\n",
    "     'max_depth': [5],\n",
    "     'learning_rate': [0.05]\n",
    "}\n",
    "grid_gtb_synth = RandomizedSearchCV(GradientBoostingClassifier(), synth_gtb_params, n_iter=100, cv=5, random_state=42, n_jobs=-1).fit(X_synth_train, y_synth_train)"
   ]
  },
  {
   "cell_type": "code",
   "execution_count": 37,
   "metadata": {},
   "outputs": [
    {
     "name": "stderr",
     "output_type": "stream",
     "text": [
      "E:\\Program Files (x86)\\Anaconda\\envs\\py37_full\\lib\\site-packages\\sklearn\\model_selection\\_search.py:281: UserWarning: The total space of parameters 1 is smaller than n_iter=100. Running 1 iterations. For exhaustive searches, use GridSearchCV.\n",
      "  % (grid_size, self.n_iter, grid_size), UserWarning)\n"
     ]
    }
   ],
   "source": [
    "# Fine-Tuning of the Gradient Boosting Classifier hyperparameters:\n",
    "synth_rf_params = {\n",
    "    'max_depth': [80, 90, 100, 110],\n",
    "    'max_features': [2, 3, 5],\n",
    "    'min_samples_leaf': [3, 4, 5],\n",
    "    'min_samples_split': [8, 10, 12],\n",
    "    'n_estimators': [100, 200, 300, 1000]\n",
    "}\n",
    "synth_rf_params = {\n",
    "    'n_estimators': [100],\n",
    "     'min_samples_split': [8],\n",
    "     'min_samples_leaf': [3],\n",
    "     'max_features': [5],\n",
    "     'max_depth': [80]\n",
    "}\n",
    "grid_rf_synth = RandomizedSearchCV(RandomForestClassifier(), synth_rf_params, n_iter=100, cv=5, random_state=42, n_jobs=-1).fit(X_synth_train, y_synth_train)"
   ]
  },
  {
   "cell_type": "code",
   "execution_count": null,
   "metadata": {},
   "outputs": [],
   "source": [
    "# Apply Gradient tree boosting classifier with fine-tuned hyperparameters:\n",
    "gtb_opt_synth = GradientBoostingClassifier(**grid_gtb_synth.best_params_).fit(X_synth_train, y_synth_train)\n",
    "inS_gtb_synth_pred = gtb_opt_synth.predict(X_synth_train)\n",
    "outS_gtb_synth_pred = gtb_opt_synth.predict(X_synth_test)\n",
    "# Apply Random Forest classifier with fine-tuned hyperparameters:\n",
    "rf_opt_synth = RandomForestClassifier(**grid_rf_synth.best_params_, class_weight='balanced').fit(X_synth_train, y_synth_train)\n",
    "inS_rf_synth_pred = rf_opt_synth.predict(X_synth_train)\n",
    "outS_rf_synth_pred = rf_opt_synth.predict(X_synth_test)"
   ]
  },
  {
   "cell_type": "code",
   "execution_count": null,
   "metadata": {},
   "outputs": [],
   "source": [
    "# Compare each estimators in terms of precision, acuracy and f1-score:\n",
    "synth_opt_prec_df = pd.DataFrame({\n",
    "    \"GBT\": {\"InSample\": np.round(precision_score(y_synth_train, inS_gtb_synth_pred), 2),\n",
    "              \"OutSample\": np.round(precision_score(y_synth_test, outS_gtb_synth_pred), 2),},\n",
    "    \"RF\":{\"InSample\": np.round(precision_score(y_synth_train,inS_rf_synth_pred),2),\n",
    "             \"OutSample\": np.round(precision_score(y_synth_test,outS_rf_synth_pred),2)},\n",
    "})\n",
    "\n",
    "synth_opt_acc_df = pd.DataFrame({\n",
    "        \"GBT\": {\"InSample\": np.round(accuracy_score(y_synth_train, inS_gtb_synth_pred), 2),\n",
    "              \"OutSample\": np.round(accuracy_score(y_synth_test, outS_gtb_synth_pred), 2),},\n",
    "    \"RF\":{\"InSample\": np.round(accuracy_score(y_synth_train,inS_rf_synth_pred),2),\n",
    "             \"OutSample\": np.round(accuracy_score(y_synth_test,outS_rf_synth_pred),2)},\n",
    "})\n",
    "\n",
    "synth_opt_f1s_df = pd.DataFrame({\n",
    "    \"GBT\": {\"InSample\": np.round(f1_score(y_synth_train, inS_gtb_synth_pred), 2),\n",
    "              \"OutSample\": np.round(f1_score(y_synth_test, outS_gtb_synth_pred), 2),},\n",
    "    \"RF\":{\"InSample\": np.round(f1_score(y_synth_train,inS_rf_synth_pred),2),\n",
    "             \"OutSample\": np.round(f1_score(y_synth_test,outS_rf_synth_pred),2)},\n",
    "})"
   ]
  },
  {
   "cell_type": "code",
   "execution_count": null,
   "metadata": {},
   "outputs": [],
   "source": [
    "print(\"Precision\")\n",
    "print(\"------------------------\")\n",
    "print(synth_opt_prec_df)\n",
    "print(\"\")\n",
    "print(\"Accuracy\")\n",
    "print(\"------------------------\")\n",
    "print(synth_opt_acc_df)\n",
    "print(\"\")\n",
    "print(\"F1-score\")\n",
    "print(\"------------------------\")\n",
    "print(synth_opt_f1s_df)\n",
    "print(\"------------------------\")"
   ]
  },
  {
   "cell_type": "markdown",
   "metadata": {},
   "source": [
    "The result has been improved due to the tuned hyperparameters. Overall both algorithms deliver very good accuracy and precision on this dataset."
   ]
  },
  {
   "cell_type": "markdown",
   "metadata": {},
   "source": [
    "###  V. Conclusion\n",
    "\n",
    "In this project, I have been investigating the performance of two well-known machine learning algorithms, the Gradient Boosting Tree Classifier and the Random Forest Classifier. These algorithms both use tree as \"weak\" learners but their underlying method is different (bagging Vs boosting).\n",
    "\n",
    "The gradient boosting algorithm has been more robust in terms of out-of-sample error on the real data set. However, both algorithms have not achieved an exceptional performance in terms of precision and, even after the hyperparameter tuning procedure. Both algorithms have performed very well on the synthetic dataset.\n",
    "\n",
    "Overall, I think both of these algorithms are suitable for classification problems with imbalance in the response variable. Better performance could have been achieved with a wider grid for hyperparameter tuning, and probably also with data cleaning/feature selection."
   ]
  }
 ],
 "metadata": {
  "anaconda-cloud": {},
  "kernelspec": {
   "display_name": "py37_full",
   "language": "python",
   "name": "py37_full"
  },
  "language_info": {
   "codemirror_mode": {
    "name": "ipython",
    "version": 3
   },
   "file_extension": ".py",
   "mimetype": "text/x-python",
   "name": "python",
   "nbconvert_exporter": "python",
   "pygments_lexer": "ipython3",
   "version": "3.7.6"
  }
 },
 "nbformat": 4,
 "nbformat_minor": 1
}
