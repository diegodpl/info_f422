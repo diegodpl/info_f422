{
 "cells": [
  {
   "cell_type": "markdown",
   "metadata": {},
   "source": [
    "# Project: Regression on high-dimensional datasets"
   ]
  },
  {
   "cell_type": "markdown",
   "metadata": {},
   "source": [
    "### I. Introduction\n",
    "\n",
    "Regression algorithms are a subset of machine learning algorithms where we want to predict the value of a response variable from features/explanatory variables.\n",
    "The most know and basic regression algorithm is the simple linear OLS:\n",
    "\n",
    "\\begin{equation}\n",
    "    Y = X \\beta' + \\epsilon\n",
    "\\end{equation}\n",
    "\n",
    "In OLS, we use a quadratic loss function in order to estimate the parameter $\\hat{\\beta}$:\n",
    "\n",
    "\\begin{equation}\n",
    "    \\hat{\\beta} = \\arg \\min_{\\beta} \\Sigma_{i}^{n} ( y_i - x_i \\beta')^2\n",
    "\\end{equation}\n",
    "\n",
    "The solution is for the OLS estimator can then be retrieved:\n",
    "\n",
    "\\begin{equation}\n",
    "    \\hat{\\beta} = (X^{T} X)^{-1} X^{T} Y\n",
    "\\end{equation}\n",
    "\n",
    "We can think of the coefficients $\\hat{\\beta}$ as the optimal weights to predict future values of y. There are several assumptions in the linear regression model, including the linearity between reponse (y) and explanatory (X) variables. \n",
    "\n",
    "$\\hat{Y}$ is the orthogonal projection of $Y$ on the space spanned by $X$: $\\hat{Y}= X(X^{T} X)^{-1} X^{T} Y$ where $P=X(X^{T} X)^{-1} X^{T}$ is the orthogonal projection matrix to the space spanned by $X$. If $X$ is \"living\" in a space of higher dimensions than $Y$ and projecting $Y$ to to the space spanned by $X$ is not feasible.\n",
    "From another point of view, if $p>N$, then $(X^{T} X)^{-1}$ will not be invertible (or only with a pseudo-inverse method).\n",
    "\n",
    "Hence in this notebook, I would like to focus on the constraint of dimensions on regression problems. In this context, I have chosen two algorithms to help me tackle the dimension problem: principal component regression and Lasso regression, as well as two dataset on which I will train my models: a real dataset of DNA microarray\n",
    "and a synthetic linear regression model dataset."
   ]
  },
  {
   "cell_type": "markdown",
   "metadata": {},
   "source": [
    "### II. Machine Learning Algorithms\n",
    "#### 1. Principal Component Regression\n",
    "We have seen that OLS algorithm breaks down for high dimensional data. One way to circumvent this problem is to use a dimension reduction technique such as principal component analysis (PCA). The combination of PCA and OLS is also referred to as principal components regression.\n",
    "\n",
    "In PCA, we would like to reduce the number of variables . The idea behind PCA is to project the features (X) on a lower dimensional vector space where the basis or coordinate system of this space is formed by the new principal component variables. The first principal component is defined to capture the highest variance, the second principal component \n",
    "\n",
    "Thus, by combining OLS with this reduction technique, we can expect to be a better prediction mechanism than standard OLS. However one inconvenient of PCA is the interpretability of the new principal componenet variables. But we are still able to make predictions and transform new samples to the principal coordinate system.\n",
    "\n",
    "#### 2. Lasso Regression\n",
    "The Lasso method, also known as basis pursuit, is a regression algorithm incoporating a shrinkage or regularization component in the error minimization procedure. In other words, the Lasso procedure does a continiuous subset selection of the features and set the rest to zero. Thus it produces a model that is interpretable and has possibly lower prediction error.\n",
    "\n",
    "In the Lasso procedure, the estimate is chosen such as to minimize the sum of squared residuals (as in OLS) subject to a size penalty:\n",
    "\n",
    "\\begin{equation}\n",
    "    \\hat{\\beta} = \\arg \\min_{\\beta} { \\frac{1}{2} \\Sigma_{i}^{N} ( y_i - \\beta_0 - \\Sigma_{j}^{p} x_ij \\beta_j)^2 + \\lambda \\Sigma_{j}^{p} |\\beta_j| } \n",
    "\\end{equation}\n",
    "\n",
    "The procedure is similar to the ridge regression, except that here we use an *L1* penalization criteria insteat of *L2*. In the training of our model, we will want to choose an optimal for $\\lambda$, i.e. a value that reduces the prediction error.\n",
    "\n",
    "\n"
   ]
  },
  {
   "cell_type": "markdown",
   "metadata": {},
   "source": [
    "### III. Dataset creation and description\n",
    "#### 1. Real dataset: Diffuse large B-cell lymphoma (DLBCL)\n",
    "The dataset is a microarray example. It is taken originally from Rosenwald et al. (2002) and it can be retrieved in the R package \"LPS\". It consits of 60 samples from patients with diffuse large B-cell lymphoma (DLBCL) and gene expression measurements for 7399 genes. Hence this is clearly a high-dimensional situation, as we have many more features (7399) than observations (60).\n",
    "\n",
    "DLBCL are a type of lymphoma that are associated to a cancer that forms in white blood cells called lymphocytes. Lymphocytes produce anitbodies that help our body fight bacterias and virus. B-cell lymphoma can't fight infections well and spread to other parts of your body.\n",
    "The response variable in this dataset is the survival time in month of a patient. This surival time is either observed, i.e. the observation period contains the death event, or right censored, i.e. the observation period doesn't contain the death event.\n",
    "\n",
    "The objective of Rosenwald et al. was to find the set of genes that will predict the survival of a patient. The study of these gene could then be useful in the choice of treatments or to understand the biological basis of the disease. \n",
    "\n",
    "#### 2. Synthetic dataset: Linear regression with N=100 and p=1000\n",
    "The synthetic dataset consists of a linear regression model with 100 observations/samples and 1000 features. The sklearn.dataset library enables us to easily produce such a model.\n",
    "Furthermore we specify that out of the 100 features only 10 are informative (i.e. features that are actually used by sklearn the build the model) and the standard deviation for the gaussian noise term is equal to 1. This renders the synthetic dataset sparse, in the sense that 90% of the features have no predictive power."
   ]
  },
  {
   "cell_type": "markdown",
   "metadata": {},
   "source": [
    "### IV. Training of the models"
   ]
  },
  {
   "cell_type": "code",
   "execution_count": 16,
   "metadata": {},
   "outputs": [],
   "source": [
    "import numpy as np\n",
    "import pandas as pd\n",
    "import seaborn as sns\n",
    "import matplotlib.pyplot as plt\n",
    "from sklearn.impute import SimpleImputer\n",
    "from sklearn.decomposition import PCA\n",
    "from sklearn.linear_model import LinearRegression, Lasso, LassoCV\n",
    "from sklearn.model_selection import train_test_split, GridSearchCV\n",
    "from sklearn.datasets import make_regression\n",
    "from sklearn.metrics import mean_squared_error, explained_variance_score, mean_absolute_error, r2_score, max_error"
   ]
  },
  {
   "cell_type": "markdown",
   "metadata": {},
   "source": [
    "#### 1. Real dataset: Diffuse large B-cell lymphoma (DLBCL)"
   ]
  },
  {
   "cell_type": "code",
   "execution_count": 17,
   "metadata": {},
   "outputs": [],
   "source": [
    "# Load the survival time dataset\n",
    "lcs_X = pd.read_csv(\"rosenwald.csv\", index_col=0)\n",
    "lcs_y = pd.read_csv(\"rosenwald_cli.csv\", index_col=0)"
   ]
  },
  {
   "cell_type": "code",
   "execution_count": 18,
   "metadata": {},
   "outputs": [],
   "source": [
    "# Treat the missing values\n",
    "imp = SimpleImputer(missing_values=np.nan, strategy='mean')\n",
    "imp.fit(lcs_X)\n",
    "lcs_X = imp.transform(lcs_X)"
   ]
  },
  {
   "cell_type": "code",
   "execution_count": 19,
   "metadata": {},
   "outputs": [],
   "source": [
    "# Split the dataset on 80%/20% basis\n",
    "lcs_X_train, lcs_X_test, lcs_y_train, lcs_y_test = train_test_split(lcs_X, lcs_y.values, test_size=0.2, random_state=2)"
   ]
  },
  {
   "cell_type": "markdown",
   "metadata": {},
   "source": [
    "I have split the data randomly on 80/20 basis into training set (48x7399) and test set (12x7399)."
   ]
  },
  {
   "cell_type": "code",
   "execution_count": 20,
   "metadata": {},
   "outputs": [],
   "source": [
    "# Principal Component Regression\n",
    "# We want 75% of variance explained for our model\n",
    "pca_lcs = PCA(0.75)\n",
    "pca_lcs.fit(lcs_X_train)\n",
    "pca_X_train = pca_lcs.transform(lcs_X_train)\n",
    "pca_X_test = pca_lcs.transform(lcs_X_test)\n",
    "# We can now fit our OLS regression:\n",
    "reg = LinearRegression()\n",
    "reg.fit(pca_X_train, lcs_y_train)\n",
    "inS_reg_pred = reg.predict(pca_X_train)\n",
    "outS_reg_pred = reg.predict(pca_X_test)"
   ]
  },
  {
   "cell_type": "code",
   "execution_count": 21,
   "metadata": {},
   "outputs": [],
   "source": [
    "# Fit Lasso regression model\n",
    "regr = Lasso()\n",
    "lassocv = LassoCV(alphas = None, cv = 10, max_iter = 10000, normalize = True)\n",
    "lassocv.fit(lcs_X_train, lcs_y_train.ravel())\n",
    "regr.set_params(alpha=lassocv.alpha_)\n",
    "regr.fit(lcs_X_train, lcs_y_train.ravel())\n",
    "inS_regr_pred = regr.predict(lcs_X_train)\n",
    "outS_regr_pred = regr.predict(lcs_X_test)"
   ]
  },
  {
   "cell_type": "code",
   "execution_count": 22,
   "metadata": {},
   "outputs": [],
   "source": [
    "# We now compute MSE, MAE and R2 scores\n",
    "lcs_mse_df = pd.DataFrame({\n",
    "    \"PCR\": {\"InSample\": np.round(mean_squared_error(lcs_y_train, inS_reg_pred), 2),\n",
    "              \"OutSample\": np.round(mean_squared_error(lcs_y_test, outS_reg_pred), 2),},\n",
    "    \"LASSO\":{\"InSample\": np.round(mean_squared_error(lcs_y_train,inS_regr_pred),2),\n",
    "             \"OutSample\": np.round(mean_squared_error(lcs_y_test,outS_regr_pred),2)},\n",
    "})\n",
    "lcs_mae_df = pd.DataFrame({\n",
    "    \"PCR\": {\"InSample\": np.round(mean_absolute_error(lcs_y_train, inS_reg_pred), 2),\n",
    "              \"OutSample\": np.round(mean_absolute_error(lcs_y_test, outS_reg_pred), 2),},\n",
    "    \"LASSO\":{\"InSample\": np.round(mean_absolute_error(lcs_y_train,inS_regr_pred),2),\n",
    "             \"OutSample\": np.round(mean_absolute_error(lcs_y_test,outS_regr_pred),2)},\n",
    "})\n",
    "lcs_r2_df = pd.DataFrame({\n",
    "    \"PCR\": {\"InSample\": np.round(explained_variance_score(lcs_y_train, inS_reg_pred), 2),\n",
    "              \"OutSample\": np.round(explained_variance_score(lcs_y_test, outS_reg_pred), 2),},\n",
    "    \"LASSO\":{\"InSample\": np.round(explained_variance_score(lcs_y_train,inS_regr_pred),2),\n",
    "             \"OutSample\": np.round(explained_variance_score(lcs_y_test,outS_regr_pred),2)},\n",
    "})"
   ]
  },
  {
   "cell_type": "code",
   "execution_count": 23,
   "metadata": {},
   "outputs": [
    {
     "name": "stdout",
     "output_type": "stream",
     "text": [
      "\n",
      "Mean squared error\n",
      "------------------------\n",
      "             PCR  LASSO\n",
      "InSample   13.56   1.82\n",
      "OutSample  14.27  28.33\n",
      "\n",
      "Mean absolute error\n",
      "------------------------\n",
      "            PCR  LASSO\n",
      "InSample   3.08   1.09\n",
      "OutSample  3.19   4.50\n",
      "\n",
      "R2 score\n",
      "------------------------\n",
      "            PCR  LASSO\n",
      "InSample   0.38   0.92\n",
      "OutSample -0.58  -2.40\n"
     ]
    }
   ],
   "source": [
    "print(\"\")\n",
    "print(\"Mean squared error\")\n",
    "print(\"------------------------\")\n",
    "print(lcs_mse_df)\n",
    "print(\"\")\n",
    "print(\"Mean absolute error\")\n",
    "print(\"------------------------\")\n",
    "print(lcs_mae_df)\n",
    "print(\"\")\n",
    "print(\"R2 score\")\n",
    "print(\"------------------------\")\n",
    "print(lcs_r2_df)"
   ]
  },
  {
   "cell_type": "markdown",
   "metadata": {},
   "source": [
    "We can see that the Lasso procedure outperforms PCR in-sample. Lasso has a relatively low MSE and high R2 score of 0.92 in the training data. However for the test data, both procedures seem to break down. The Lasso MSE jumps to 28.33, and the R2 score becomes even negative for both lasso and PCR. This could indicate that a linear model is not adapted to our data."
   ]
  },
  {
   "cell_type": "code",
   "execution_count": 24,
   "metadata": {},
   "outputs": [
    {
     "name": "stdout",
     "output_type": "stream",
     "text": [
      "PCR - number of chosen components :  22\n"
     ]
    },
    {
     "data": {
      "text/plain": [
       "<matplotlib.axes._subplots.AxesSubplot at 0x19cc4d52888>"
      ]
     },
     "execution_count": 24,
     "metadata": {},
     "output_type": "execute_result"
    },
    {
     "data": {
      "image/png": "[encoded data removed]",
      "text/plain": [
       "<Figure size 432x288 with 1 Axes>"
      ]
     },
     "metadata": {
      "needs_background": "light"
     },
     "output_type": "display_data"
    }
   ],
   "source": [
    "print('PCR - number of chosen components : ', len(pca_lcs.explained_variance_ratio_))\n",
    "var_lcs_df = pd.DataFrame({'%VarExplained':pca_lcs.explained_variance_ratio_, \n",
    "                       'PC':np.arange(1,len(pca_lcs.explained_variance_ratio_)+1,1)})\n",
    "sns.barplot(x='PC',y=\"%VarExplained\", data=var_lcs_df, color=\"c\")"
   ]
  },
  {
   "cell_type": "markdown",
   "metadata": {},
   "source": [
    "The PCR has selected 22 components (out of 7399) to explain 75% of the variance. This is actually quite interesting. However it seems that the linear regression might not be the best algorithm for this problem."
   ]
  },
  {
   "cell_type": "markdown",
   "metadata": {},
   "source": [
    "#### 2. Synthetic dataset: Linear regression with N=100 and p=1000"
   ]
  },
  {
   "cell_type": "code",
   "execution_count": 25,
   "metadata": {},
   "outputs": [],
   "source": [
    "# Create the synthetic dataset and split into training and test sets:\n",
    "synth_X, synth_y = make_regression(n_samples=100, n_features=1000, n_informative=5, \n",
    "                                   noise=1, random_state=0)\n",
    "synth_X_train, synth_X_test, synth_y_train, synth_y_test = train_test_split(\n",
    "    synth_X, synth_y, test_size=0.2, random_state=2)"
   ]
  },
  {
   "cell_type": "code",
   "execution_count": 26,
   "metadata": {},
   "outputs": [],
   "source": [
    "# Principal Component Regression\n",
    "# We want 75% of variance explained\n",
    "pca_sy = PCA(0.75)\n",
    "pca_sy.fit(synth_X_train)\n",
    "pca_X_sy_train = pca_sy.transform(synth_X_train)\n",
    "pca_X_sy_test = pca_sy.transform(synth_X_test)\n",
    "# We can now fit our OLS regression:\n",
    "reg_sy = LinearRegression()\n",
    "reg_sy.fit(pca_X_sy_train, synth_y_train)\n",
    "inS_reg_sy_pred = reg_sy.predict(pca_X_sy_train)\n",
    "outS_reg_sy_pred = reg_sy.predict(pca_X_sy_test)"
   ]
  },
  {
   "cell_type": "code",
   "execution_count": 27,
   "metadata": {},
   "outputs": [],
   "source": [
    "# Fit Lasso regression model\n",
    "regr_sy = Lasso()\n",
    "lassocv_sy = LassoCV(alphas = None, cv = 10, max_iter = 1000000, normalize = True)\n",
    "lassocv_sy.fit(synth_X_train, synth_y_train)\n",
    "regr_sy.set_params(alpha=lassocv.alpha_)\n",
    "regr_sy.fit(synth_X_train, synth_y_train)\n",
    "inS_regr_sy_pred = regr_sy.predict(synth_X_train)\n",
    "outS_regr_sy_pred = regr_sy.predict(synth_X_test)"
   ]
  },
  {
   "cell_type": "code",
   "execution_count": 28,
   "metadata": {},
   "outputs": [],
   "source": [
    "synth_mse_df = pd.DataFrame({\n",
    "    \"OLS\": {\"InSample\": np.round(mean_squared_error(synth_y_train,inS_reg_sy_pred),2),\n",
    "              \"OutSample\": np.round(mean_squared_error(synth_y_test,outS_reg_sy_pred),2)},\n",
    "    \"LASSO\":{\"InSample\": np.round(mean_squared_error(synth_y_train,inS_regr_sy_pred),2),\n",
    "             \"OutSample\": np.round(mean_squared_error(synth_y_test,outS_regr_sy_pred),2)},\n",
    "})\n",
    "\n",
    "synth_mae_df = pd.DataFrame({\n",
    "    \"OLS\": {\"InSample\": np.round(mean_absolute_error(synth_y_train,inS_reg_sy_pred),2),\n",
    "              \"OutSample\": np.round(mean_absolute_error(synth_y_test,outS_reg_sy_pred),2)},\n",
    "    \"LASSO\":{\"InSample\": np.round(mean_absolute_error(synth_y_train,inS_regr_sy_pred),2),\n",
    "             \"OutSample\": np.round(mean_absolute_error(synth_y_test,outS_regr_sy_pred),2)},\n",
    "})\n",
    "\n",
    "synth_r2_df = pd.DataFrame({\n",
    "    \"OLS\": {\"InSample\": np.round(r2_score(synth_y_train,inS_reg_sy_pred),2),\n",
    "              \"OutSample\": np.round(r2_score(synth_y_test,outS_reg_sy_pred),2)},\n",
    "    \"LASSO\":{\"InSample\": np.round(r2_score(synth_y_train,inS_regr_sy_pred),2),\n",
    "             \"OutSample\": np.round(r2_score(synth_y_test,outS_regr_sy_pred),2)},\n",
    "})"
   ]
  },
  {
   "cell_type": "code",
   "execution_count": 29,
   "metadata": {},
   "outputs": [
    {
     "name": "stdout",
     "output_type": "stream",
     "text": [
      "\n",
      "Mean squared error\n",
      "------------------------\n",
      "                OLS  LASSO\n",
      "InSample    8664.40   1.42\n",
      "OutSample  36675.44   3.51\n",
      "\n",
      "Mean absolute error\n",
      "------------------------\n",
      "              OLS  LASSO\n",
      "InSample    73.62   0.93\n",
      "OutSample  156.14   1.42\n",
      "\n",
      "R2 score\n",
      "------------------------\n",
      "            OLS  LASSO\n",
      "InSample   0.71    1.0\n",
      "OutSample -0.05    1.0\n"
     ]
    }
   ],
   "source": [
    "print(\"\")\n",
    "print(\"Mean squared error\")\n",
    "print(\"------------------------\")\n",
    "print(synth_mse_df)\n",
    "print(\"\")\n",
    "print(\"Mean absolute error\")\n",
    "print(\"------------------------\")\n",
    "print(synth_mae_df)\n",
    "print(\"\")\n",
    "print(\"R2 score\")\n",
    "print(\"------------------------\")\n",
    "print(synth_r2_df)"
   ]
  },
  {
   "cell_type": "markdown",
   "metadata": {},
   "source": [
    "Here, we see perfect results for the Lasso procedure and outperforms the PCR in-sample and out-of-sample. Both the MSE and MAE of the lasso procedure remains small when moving out-of-sample, and the R2 score of 1 in and out-of-sample. The shrinkage and variable selection works perfectly well for this problem. "
   ]
  },
  {
   "cell_type": "code",
   "execution_count": 30,
   "metadata": {},
   "outputs": [
    {
     "name": "stdout",
     "output_type": "stream",
     "text": [
      "PCR - number of chosen componenets :  52\n"
     ]
    }
   ],
   "source": [
    "print('PCR - number of chosen componenets : ', len(pca_sy.explained_variance_ratio_))"
   ]
  },
  {
   "cell_type": "markdown",
   "metadata": {},
   "source": [
    "In order to capture 75% of the variance explained by the features, the PCR has selected 52 features out of the 1000 initial features. This is still far from the real 10 features that are driving this dataset."
   ]
  },
  {
   "cell_type": "code",
   "execution_count": 31,
   "metadata": {},
   "outputs": [
    {
     "data": {
      "text/plain": [
       "<matplotlib.axes._subplots.AxesSubplot at 0x19ccac739c8>"
      ]
     },
     "execution_count": 31,
     "metadata": {},
     "output_type": "execute_result"
    },
    {
     "data": {
      "image/png": "[encoded data removed]",
      "text/plain": [
       "<Figure size 432x288 with 1 Axes>"
      ]
     },
     "metadata": {
      "needs_background": "light"
     },
     "output_type": "display_data"
    }
   ],
   "source": [
    "var_sy_df = pd.DataFrame({'%VarExplained':pca_sy.explained_variance_ratio_, \n",
    "                       'PC':np.arange(1,len(pca_sy.explained_variance_ratio_)+1,1)})\n",
    "sns.barplot(x='PC',y=\"%VarExplained\", data=var_sy_df, color=\"c\")"
   ]
  },
  {
   "cell_type": "markdown",
   "metadata": {},
   "source": [
    "As we can see in the figure above, the first principal component is able to explain only 2% of the data. The PCA is failing in this case."
   ]
  },
  {
   "cell_type": "markdown",
   "metadata": {},
   "source": [
    "### V. Conclusion\n",
    "In this project, I have tried to analyze two high dimensional datasets using principal component regression and lasso regression.\n",
    "Overall the lasso seems to behave better than PCR on high dimensional sparse datasets. Lasso seems particularly well suited for selecting the driving features of a high dimensional sparse dataset and has low predictiob error."
   ]
  }
 ],
 "metadata": {
  "kernelspec": {
   "display_name": "py37_full",
   "language": "python",
   "name": "py37_full"
  },
  "language_info": {
   "codemirror_mode": {
    "name": "ipython",
    "version": 3
   },
   "file_extension": ".py",
   "mimetype": "text/x-python",
   "name": "python",
   "nbconvert_exporter": "python",
   "pygments_lexer": "ipython3",
   "version": "3.7.6"
  }
 },
 "nbformat": 4,
 "nbformat_minor": 4
}
